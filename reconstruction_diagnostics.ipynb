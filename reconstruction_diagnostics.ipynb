{
 "cells": [
  {
   "attachments": {},
   "cell_type": "markdown",
   "metadata": {},
   "source": [
    "## Overview\n",
    "\n",
    "This notebook assumes that `generate_all_reconstructions.py` has been run, and the reconstructions are stored in `./outputs/`.\n",
    "\n",
    "[Test](#flow-distributions)"
   ]
  },
  {
   "cell_type": "code",
   "execution_count": 126,
   "metadata": {},
   "outputs": [],
   "source": [
    "import sys\n",
    "import numpy as np\n",
    "import pandas as pd\n",
    "import matplotlib.pyplot as plt\n",
    "import scipy.stats as scs\n",
    "from scipy.stats import genextreme, pearson3\n",
    "from scipy.optimize import curve_fit\n",
    "from scipy.stats import genextreme as gev\n",
    "from scipy.stats import pearson3\n",
    "from sklearn.preprocessing import StandardScaler\n",
    "import spei as si\n",
    "\n",
    "from utils.data_processing import extract_realization_from_hdf5\n",
    "from utils.drought_plots import plot_ssi\n",
    "\n",
    "# Directory to pywrdrb project\n",
    "pywrdrb_directory = '../Pywr-DRB/'\n",
    "sys.path.append(pywrdrb_directory)\n",
    "\n",
    "from pywrdrb.pywr_drb_node_data import obs_pub_site_matches, obs_site_matches\n",
    "from pywrdrb.utils.constants import cms_to_mgd"
   ]
  },
  {
   "cell_type": "code",
   "execution_count": 113,
   "metadata": {},
   "outputs": [],
   "source": [
    "def aggregate_node_flows(df):\n",
    "    for node, sites in obs_pub_site_matches.items():\n",
    "        if sites:\n",
    "            df.loc[:,node] = df.loc[:, sites].sum(axis=1)    \n",
    "    df['NYC Total']= df.loc[:,['cannonsville', 'pepacton', 'neversink']].sum(axis=1)\n",
    "    return df"
   ]
  },
  {
   "cell_type": "code",
   "execution_count": 127,
   "metadata": {},
   "outputs": [],
   "source": [
    "# Load different reconstruction variations\n",
    "Q_reconst = {}\n",
    "for fdc_source in ['nhmv10', 'nwmv21']:\n",
    "    Q_reconst[fdc_source]= {}\n",
    "    # Non NYC-scaled\n",
    "    df = pd.read_csv(f'./outputs/historic_reconstruction_daily_{fdc_source}_mgd.csv', sep = ',', index_col = 0, parse_dates = True)\n",
    "    Q_reconst[fdc_source]['unscaled'] = aggregate_node_flows(df)\n",
    "    \n",
    "    # NYC-scaled\n",
    "    df = pd.read_csv(f'./outputs/historic_reconstruction_daily_{fdc_source}_NYCscaled_mgd.csv', sep = ',', index_col = 0, parse_dates = True)\n",
    "    Q_reconst[fdc_source]['scaled'] = aggregate_node_flows(df)\n",
    "\n",
    "\n",
    "    # Load ensemble flows\n",
    "    n_realizations= 30\n",
    "    ensemble_filename= f'./outputs/ensembles/historic_reconstruction_daily_{fdc_source}_ensemble_mgd.hdf5'\n",
    "    Q_reconst[fdc_source]['ensemble'] = {}\n",
    "\n",
    "    for i in range(n_realizations):\n",
    "        df = extract_realization_from_hdf5(ensemble_filename, realization=i+1)\n",
    "        \n",
    "        Q_reconst[fdc_source]['ensemble'][f'realization_{i}']= aggregate_node_flows(df)\n",
    "\n",
    "# Load historic observations\n",
    "Q_obs = pd.read_csv('./outputs/streamflow_daily_usgs_1950_2022_cms.csv', sep=',', index_col=0, parse_dates=True)*cms_to_mgd\n"
   ]
  },
  {
   "attachments": {},
   "cell_type": "markdown",
   "metadata": {},
   "source": [
    "## Visual overlay\n",
    "\n",
    "Quick visual of all reconstructions overlaid on one another for nodes of interest."
   ]
  },
  {
   "cell_type": "code",
   "execution_count": 128,
   "metadata": {},
   "outputs": [],
   "source": [
    "reconst_colordict = {'nwmv21':{'scaled': 'brown',\n",
    "                               'unscaled':'tomato',\n",
    "                               'ensemble':'pink'},\n",
    "                     'nhmv10':{'scaled':'navy',\n",
    "                               'unscaled': 'steelblue',\n",
    "                               'ensemble': 'powderblue'}}\n",
    "\n",
    "reconst_lsdict = {'scaled': 'dashed',\n",
    "                  'unscaled':'solid'}"
   ]
  },
  {
   "cell_type": "code",
   "execution_count": 130,
   "metadata": {},
   "outputs": [
    {
     "data": {
      "text/plain": [
       "{'cannonsville': ['01423000'],\n",
       " 'pepacton': ['01415000', '01414500', '01414000', '01413500'],\n",
       " 'neversink': ['01435000'],\n",
       " 'wallenpaupack': [],\n",
       " 'prompton': [],\n",
       " 'shoholaMarsh': [],\n",
       " 'mongaupeCombined': [],\n",
       " 'beltzvilleCombined': ['01449360'],\n",
       " 'fewalter': ['01447720', '01447500'],\n",
       " 'merrillCreek': [],\n",
       " 'hopatcong': [],\n",
       " 'nockamixon': [],\n",
       " 'assunpink': [],\n",
       " 'ontelaunee': [],\n",
       " 'stillCreek': [],\n",
       " 'blueMarsh': [],\n",
       " 'greenLane': ['01472199', '01472198'],\n",
       " '01425000': ['01425000'],\n",
       " '01417000': ['01417000'],\n",
       " 'delLordville': ['01427207'],\n",
       " '01436000': ['01436000'],\n",
       " '01433500': ['01433500'],\n",
       " 'delMontague': ['01438500'],\n",
       " '01449800': ['01449800'],\n",
       " '01447800': ['01447800'],\n",
       " 'delDRCanal': ['01463500'],\n",
       " 'delTrenton': ['01463500'],\n",
       " '01463620': ['01463620'],\n",
       " 'outletAssunpink': ['01464000'],\n",
       " '01470960': ['01470960'],\n",
       " 'outletSchuylkill': ['01474500']}"
      ]
     },
     "execution_count": 130,
     "metadata": {},
     "output_type": "execute_result"
    }
   ],
   "source": [
    "obs_site_matches"
   ]
  },
  {
   "cell_type": "code",
   "execution_count": 166,
   "metadata": {},
   "outputs": [
    {
     "name": "stderr",
     "output_type": "stream",
     "text": [
      "C:\\Users\\tjame\\AppData\\Local\\Temp\\ipykernel_7124\\892255957.py:9: RuntimeWarning: More than 20 figures have been opened. Figures created through the pyplot interface (`matplotlib.pyplot.figure`) are retained until explicitly closed and may consume too much memory. (To control this warning, see the rcParam `figure.max_open_warning`). Consider using `matplotlib.pyplot.close()`.\n",
      "  fig, ax= plt.subplots(figsize=(7,5), dpi=200)\n"
     ]
    },
    {
     "data": {
      "text/plain": [
       "<Figure size 1400x1000 with 0 Axes>"
      ]
     },
     "metadata": {},
     "output_type": "display_data"
    },
    {
     "data": {
      "text/plain": [
       "<Figure size 1400x1000 with 0 Axes>"
      ]
     },
     "metadata": {},
     "output_type": "display_data"
    },
    {
     "data": {
      "text/plain": [
       "<Figure size 1400x1000 with 0 Axes>"
      ]
     },
     "metadata": {},
     "output_type": "display_data"
    },
    {
     "data": {
      "text/plain": [
       "<Figure size 1400x1000 with 0 Axes>"
      ]
     },
     "metadata": {},
     "output_type": "display_data"
    },
    {
     "data": {
      "text/plain": [
       "<Figure size 1400x1000 with 0 Axes>"
      ]
     },
     "metadata": {},
     "output_type": "display_data"
    },
    {
     "data": {
      "text/plain": [
       "<Figure size 1400x1000 with 0 Axes>"
      ]
     },
     "metadata": {},
     "output_type": "display_data"
    },
    {
     "data": {
      "text/plain": [
       "<Figure size 1400x1000 with 0 Axes>"
      ]
     },
     "metadata": {},
     "output_type": "display_data"
    },
    {
     "data": {
      "text/plain": [
       "<Figure size 1400x1000 with 0 Axes>"
      ]
     },
     "metadata": {},
     "output_type": "display_data"
    },
    {
     "data": {
      "text/plain": [
       "<Figure size 1400x1000 with 0 Axes>"
      ]
     },
     "metadata": {},
     "output_type": "display_data"
    },
    {
     "data": {
      "text/plain": [
       "<Figure size 1400x1000 with 0 Axes>"
      ]
     },
     "metadata": {},
     "output_type": "display_data"
    },
    {
     "data": {
      "text/plain": [
       "<Figure size 1400x1000 with 0 Axes>"
      ]
     },
     "metadata": {},
     "output_type": "display_data"
    },
    {
     "data": {
      "text/plain": [
       "<Figure size 1400x1000 with 0 Axes>"
      ]
     },
     "metadata": {},
     "output_type": "display_data"
    },
    {
     "data": {
      "text/plain": [
       "<Figure size 1400x1000 with 0 Axes>"
      ]
     },
     "metadata": {},
     "output_type": "display_data"
    },
    {
     "data": {
      "text/plain": [
       "<Figure size 1400x1000 with 0 Axes>"
      ]
     },
     "metadata": {},
     "output_type": "display_data"
    },
    {
     "data": {
      "text/plain": [
       "<Figure size 1400x1000 with 0 Axes>"
      ]
     },
     "metadata": {},
     "output_type": "display_data"
    },
    {
     "data": {
      "text/plain": [
       "<Figure size 1400x1000 with 0 Axes>"
      ]
     },
     "metadata": {},
     "output_type": "display_data"
    },
    {
     "data": {
      "text/plain": [
       "<Figure size 1400x1000 with 0 Axes>"
      ]
     },
     "metadata": {},
     "output_type": "display_data"
    },
    {
     "data": {
      "text/plain": [
       "<Figure size 1400x1000 with 0 Axes>"
      ]
     },
     "metadata": {},
     "output_type": "display_data"
    },
    {
     "data": {
      "text/plain": [
       "<Figure size 1400x1000 with 0 Axes>"
      ]
     },
     "metadata": {},
     "output_type": "display_data"
    },
    {
     "data": {
      "text/plain": [
       "<Figure size 1400x1000 with 0 Axes>"
      ]
     },
     "metadata": {},
     "output_type": "display_data"
    },
    {
     "data": {
      "text/plain": [
       "<Figure size 1400x1000 with 0 Axes>"
      ]
     },
     "metadata": {},
     "output_type": "display_data"
    },
    {
     "data": {
      "text/plain": [
       "<Figure size 1400x1000 with 0 Axes>"
      ]
     },
     "metadata": {},
     "output_type": "display_data"
    },
    {
     "data": {
      "text/plain": [
       "<Figure size 1400x1000 with 0 Axes>"
      ]
     },
     "metadata": {},
     "output_type": "display_data"
    },
    {
     "data": {
      "text/plain": [
       "<Figure size 1400x1000 with 0 Axes>"
      ]
     },
     "metadata": {},
     "output_type": "display_data"
    },
    {
     "data": {
      "text/plain": [
       "<Figure size 1400x1000 with 0 Axes>"
      ]
     },
     "metadata": {},
     "output_type": "display_data"
    },
    {
     "data": {
      "text/plain": [
       "<Figure size 1400x1000 with 0 Axes>"
      ]
     },
     "metadata": {},
     "output_type": "display_data"
    },
    {
     "data": {
      "text/plain": [
       "<Figure size 1400x1000 with 0 Axes>"
      ]
     },
     "metadata": {},
     "output_type": "display_data"
    },
    {
     "data": {
      "text/plain": [
       "<Figure size 1400x1000 with 0 Axes>"
      ]
     },
     "metadata": {},
     "output_type": "display_data"
    },
    {
     "data": {
      "text/plain": [
       "<Figure size 1400x1000 with 0 Axes>"
      ]
     },
     "metadata": {},
     "output_type": "display_data"
    },
    {
     "data": {
      "text/plain": [
       "<Figure size 1400x1000 with 0 Axes>"
      ]
     },
     "metadata": {},
     "output_type": "display_data"
    },
    {
     "data": {
      "text/plain": [
       "<Figure size 1400x1000 with 0 Axes>"
      ]
     },
     "metadata": {},
     "output_type": "display_data"
    }
   ],
   "source": [
    "\n",
    "t_start= '1962-10-01'\n",
    "t_end= '1964-09-29'\n",
    "plot_type= 'timeseries' #'timeseries' # Options: fdc, timeseries\n",
    "\n",
    "plot_node= 'cannonsville' #'01425000' #'01436000' #'delTrenton'\n",
    "\n",
    "for plot_node, _ in obs_pub_site_matches.items():\n",
    "\n",
    "    fig, ax= plt.subplots(figsize=(7,5), dpi=200)\n",
    "\n",
    "    fdc_quantiles= np.linspace(0.00001,0.99999,200)\n",
    "\n",
    "    consider_datasets=['unscaled', 'scaled'] if plot_node in ['cannonsville', 'pepacton', 'NYC Total'] else ['unscaled']\n",
    "\n",
    "\n",
    "    for fdc_source in ['nhmv10', 'nwmv21']:\n",
    "        if plot_node not in ['cannonsville', 'pepacton','NYC Total']:\n",
    "            \n",
    "            for i in range(n_realizations):            \n",
    "                Q_hr= Q_reconst[fdc_source]['ensemble'][f'realization_{i}']\n",
    "                c = reconst_colordict[fdc_source]['ensemble']\n",
    "                \n",
    "                if plot_type == 'timeseries':\n",
    "                    if i == 0:\n",
    "                        ax.plot(Q_hr.loc[t_start:t_end, plot_node], color=c, alpha=0.4, label= f'{fdc_source} QPPQ sampled traces')\n",
    "                    else:\n",
    "                        ax.plot(Q_hr.loc[t_start:t_end, plot_node], color=c, alpha=0.5, lw=0.7, zorder=1)\n",
    "                        \n",
    "                elif plot_type == 'fdc':\n",
    "                    \n",
    "                    fdc_vals= np.quantile(Q_hr[plot_node].values.flatten(), fdc_quantiles)\n",
    "                    ax.plot(fdc_quantiles, fdc_vals, color=c, alpha=0.25)\n",
    "\n",
    "        # Run different single-trace versions\n",
    "        for s in consider_datasets:\n",
    "            Q_hr= Q_reconst[fdc_source][s]\n",
    "            c = reconst_colordict[fdc_source][s]\n",
    "            \n",
    "            if plot_type == 'timeseries':\n",
    "                ax.plot(Q_hr.loc[t_start:t_end, plot_node], color=c, label= f'{fdc_source} based HR {s}', \n",
    "                        alpha=0.9, ls=reconst_lsdict[s], lw=1, zorder=3)\n",
    "            elif plot_type == 'fdc':\n",
    "                fdc_vals= np.quantile(Q_hr[plot_node].values.flatten(), fdc_quantiles)\n",
    "                ax.plot(fdc_quantiles, fdc_vals, color=c, label= f'{fdc_source} based HR {s}')\n",
    "        \n",
    "    # If a obs gauge is included, add that\n",
    "    if obs_site_matches[plot_node]:\n",
    "        ax.plot(Q_obs.loc[t_start:t_end, [f'USGS-{s}' for s in obs_site_matches[plot_node]]].sum(axis=1),\n",
    "                color = 'black', lw=1, ls =':', \n",
    "                label = 'Observed Gauge Flow', zorder=5)\n",
    "            \n",
    "        \n",
    "    ax.set_xlabel('Date')\n",
    "    ax.set_ylabel('Flow (MGD)')\n",
    "    ax.set_yscale('log')\n",
    "    h, l = ax.get_legend_handles_labels()\n",
    "    legend= ax.legend(h,l,loc='lower center', bbox_to_anchor=(0.5, -0.55), ncol=2)\n",
    "    plt.title(f'Reconstructed naturalized flows at: {plot_node}')\n",
    "    plt.tight_layout()\n",
    "    plt.savefig(f'./figures/hist_reconst_all_{plot_node}.png', dpi=200)\n",
    "    \n",
    "    plt.clf()\n",
    "\n"
   ]
  },
  {
   "cell_type": "code",
   "execution_count": 151,
   "metadata": {},
   "outputs": [
    {
     "data": {
      "text/plain": [
       "{'cannonsville': ['01423000', '0142400103'],\n",
       " 'pepacton': ['01415000', '01414500', '01414000', '01413500'],\n",
       " 'neversink': ['01435000'],\n",
       " 'wallenpaupack': None,\n",
       " 'prompton': ['01428750'],\n",
       " 'shoholaMarsh': None,\n",
       " 'mongaupeCombined': None,\n",
       " 'beltzvilleCombined': ['01449360'],\n",
       " 'fewalter': ['01447720', '01447500'],\n",
       " 'merrillCreek': None,\n",
       " 'hopatcong': None,\n",
       " 'nockamixon': None,\n",
       " 'assunpink': None,\n",
       " 'ontelaunee': None,\n",
       " 'stillCreek': None,\n",
       " 'blueMarsh': None,\n",
       " 'greenLane': ['01472199', '01472198'],\n",
       " '01425000': None,\n",
       " '01417000': None,\n",
       " 'delLordville': ['01427207'],\n",
       " '01436000': None,\n",
       " '01433500': None,\n",
       " 'delMontague': None,\n",
       " '01449800': None,\n",
       " '01447800': None,\n",
       " 'delDRCanal': None,\n",
       " 'delTrenton': None,\n",
       " '01463620': None,\n",
       " 'outletAssunpink': ['01464000'],\n",
       " '01470960': None,\n",
       " 'outletSchuylkill': ['01474500']}"
      ]
     },
     "execution_count": 151,
     "metadata": {},
     "output_type": "execute_result"
    }
   ],
   "source": [
    "obs_pub_site_matches"
   ]
  },
  {
   "cell_type": "code",
   "execution_count": null,
   "metadata": {},
   "outputs": [],
   "source": []
  }
 ],
 "metadata": {
  "kernelspec": {
   "display_name": "venv",
   "language": "python",
   "name": "python3"
  },
  "language_info": {
   "codemirror_mode": {
    "name": "ipython",
    "version": 3
   },
   "file_extension": ".py",
   "mimetype": "text/x-python",
   "name": "python",
   "nbconvert_exporter": "python",
   "pygments_lexer": "ipython3",
   "version": "3.10.10"
  },
  "orig_nbformat": 4
 },
 "nbformat": 4,
 "nbformat_minor": 2
}
