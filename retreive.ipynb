{
 "cells": [
  {
   "attachments": {},
   "cell_type": "markdown",
   "metadata": {},
   "source": [
    "## Overview\n",
    "\n",
    "This notebook is used to retreive USGS gauge data for the Delaware River Basin (DRB). The Hyriver suite is used to query and retrieve the data. \n",
    "\n",
    "First, observational records for all "
   ]
  },
  {
   "cell_type": "code",
   "execution_count": 30,
   "metadata": {},
   "outputs": [],
   "source": [
    "import sys\n",
    "import numpy as np\n",
    "import pandas as pd\n",
    "import geopandas as gpd\n",
    "\n",
    "# From the PyNHD library, import data acuistion tools\n",
    "from pygeohydro import NWIS\n",
    "import pynhd as pynhd\n",
    "\n",
    "pywrdrb_dir = '../Pywr-DRB/'\n",
    "sys.path.append(pywrdrb_dir)\n",
    "\n",
    "from pywrdrb.pywr_drb_node_data import obs_site_matches, obs_pub_site_matches\n"
   ]
  },
  {
   "attachments": {},
   "cell_type": "markdown",
   "metadata": {},
   "source": [
    "## Get Pywrdrb-Node specific observational data\n",
    "\n",
    "These stations correspond to nodes in the `pywrdrb` model. See the `pywrdrb.pywr_drb_node_data` for the corresponding USGS gauge IDs for each node. \n"
   ]
  },
  {
   "cell_type": "code",
   "execution_count": 5,
   "metadata": {},
   "outputs": [],
   "source": [
    "# Specifications\n",
    "dates = ('1950-01-01', '2022-12-31')\n",
    "\n",
    "\n",
    "## Get historic observations that exist\n",
    "pywrdrb_stations = []\n",
    "for node, sites in obs_site_matches.items():\n",
    "    if len(sites) > 0:\n",
    "        for s in sites:\n",
    "            pywrdrb_stations.append(s)\n",
    "\n",
    "nwis = NWIS()\n",
    "Q = nwis.get_streamflow(pywrdrb_stations, dates)\n",
    "\n",
    "# Save data\n",
    "Q.index = pd.to_datetime(Q.index).date\n",
    "Q.to_csv('./outputs/streamflow_daily_usgs_1950_2022_cms.csv', sep=',')"
   ]
  },
  {
   "attachments": {},
   "cell_type": "markdown",
   "metadata": {},
   "source": [
    "## Get USGS streamflows from across the basin\n",
    "\n",
    "These streamflows are used later when reconstruction the historic record, to provide data for the streamflow prediction at various ungauged locations. \n",
    "\n",
    "One important aspect of the historic reconstruction is that the streamflow timeseries should reflect unmanaged streamflows; the `pywrdrb` model is designed to impose the effect of management on the flows. For that reason, care is taken to remove streamflow data from gauges which are heavily impacted by reservoirs. This is particularly important for any node which is located immediately downstream of a reservoir in the `pywrdrb` model, since residual management impacts, from the historic operations activities, in the provided inflow timeseries will hinder our ability to properly assess the efficacy of simulated reservoir policy. "
   ]
  },
  {
   "cell_type": "code",
   "execution_count": 6,
   "metadata": {},
   "outputs": [],
   "source": [
    "## Specifications\n",
    "filter_drb = True\n",
    "bbox = (-77.8, 37.5, -74.0, 44.0)\n",
    "dates = ('1950-01-01', '2022-12-31')\n",
    "\n",
    "def filter_drb_sites(x, sdir = '../Pywr-DRB/DRB_spatial/DRB_shapefiles'):\n",
    "    \"\"\"Filters USGS gauge data to remove gauges outside the DRB boundary.\n",
    "\n",
    "    Args:\n",
    "        x (pd.DataFrame): A dataframe with gauges including columns \"long\" and \"lat\" with location data. \n",
    "        sdir (str, optional) The location of the folder containing the DRB shapefile.\n",
    "    Returns:\n",
    "        pd.DataFrame: Dataframe containing gauge data, for gauges within the DRB boundary\n",
    "    \"\"\"\n",
    "    crs = 4386\n",
    "\n",
    "    drb_boarder = gpd.read_file(f'{sdir}/drb_bnd_polygon.shp')\n",
    "    drb_boarder = drb_boarder.to_crs(crs)\n",
    "    x_all = gpd.GeoDataFrame(x, geometry = gpd.points_from_xy(x.long, x.lat, crs = crs))\n",
    "    x_filtered = gpd.clip(x_all, drb_boarder)\n",
    "    return x_filtered"
   ]
  },
  {
   "cell_type": "code",
   "execution_count": 7,
   "metadata": {},
   "outputs": [
    {
     "name": "stdout",
     "output_type": "stream",
     "text": [
      "Initialized\n",
      "Gage data gathered, 1393 USGS streamflow gauges found in date range.\n"
     ]
    }
   ],
   "source": [
    "# Use the national water info system (NWIS)\n",
    "nwis = NWIS()\n",
    "print(\"Initialized\")\n",
    "\n",
    "# Send a query_request for all gage info in the bbox\n",
    "query_request = {\"bBox\": \",\".join(f\"{b:.06f}\" for b in bbox),\n",
    "        \"hasDataTypeCd\": \"dv\",\n",
    "        \"outputDataTypeCd\": \"dv\"}\n",
    "\n",
    "query_result = nwis.get_info(query_request, expanded= False, nhd_info= False)\n",
    "\n",
    "# Filter non-streamflow stations\n",
    "query_result = query_result.query(\"site_tp_cd in ('ST','ST-TS')\")\n",
    "query_result = query_result[query_result.parm_cd == '00060']  # https://help.waterdata.usgs.gov/parameter_cd?group_cd=PHY\n",
    "query_result = query_result.reset_index(drop = True)\n",
    "\n",
    "stations = list(set(query_result.site_no.tolist()))\n",
    "print(f\"Gage data gathered, {len(stations)} USGS streamflow gauges found in date range.\")\n"
   ]
  },
  {
   "cell_type": "code",
   "execution_count": 8,
   "metadata": {},
   "outputs": [
    {
     "name": "stdout",
     "output_type": "stream",
     "text": [
      "366 streamflow gauges after filtering.\n"
     ]
    }
   ],
   "source": [
    "### Location data (long,lat)\n",
    "gage_data = query_result[['site_no', 'dec_long_va', 'dec_lat_va', 'begin_date', 'end_date']]\n",
    "gage_data.columns = ['site_no', 'long', 'lat', 'begin_date', 'end_date']\n",
    "gage_data.index = gage_data['site_no']\n",
    "gage_data= gage_data.drop('site_no', axis=1)\n",
    "\n",
    "# Take just locations in the DRB\n",
    "if filter_drb:\n",
    "    gage_data = filter_drb_sites(gage_data)\n",
    "gage_data = gage_data[~gage_data.index.duplicated(keep = 'first')]\n",
    "stations = gage_data.index.to_list()\n",
    "print(f'{len(stations)} streamflow gauges after filtering.')\n"
   ]
  },
  {
   "attachments": {},
   "cell_type": "markdown",
   "metadata": {},
   "source": [
    "### NLDI Basin Characteristic Retrieval\n",
    "\n",
    "When estimating flows at ungauged locations, we want to use only un-managed streamflow data as reference data.  Thus, we want to remove observations from locations which are impacted by dams.  We can use the `pynhd` package to retrieve NLDI basin characteristics which tell us if a particular gauge contains dams in the basin.  \n",
    "\n",
    "There are four catchment characteristics in the NLDI data that provide indication of reservoir operations. These are listed below. We can then use the `pynhd.NLDI()` module to access these characteristics for all DRB sites and remove any sites which have dams upstream.  \n",
    "\n",
    "Before accessing the NLDI dataset, we need to identify the COMID for each location. This COMID is linked to the National Hydrographic Dataset (NHD). We will store these COMIDs in an metadata."
   ]
  },
  {
   "cell_type": "code",
   "execution_count": 9,
   "metadata": {},
   "outputs": [
    {
     "name": "stdout",
     "output_type": "stream",
     "text": [
      "Error getting COMID for site 01478185\n",
      "Error getting COMID for site 01412080\n",
      "Error getting COMID for site 01453500\n",
      "Error getting COMID for site 01455200\n",
      "Error getting COMID for site 01420500\n",
      "Error getting COMID for site 01418000\n"
     ]
    },
    {
     "data": {
      "text/html": [
       "<div>\n",
       "<style scoped>\n",
       "    .dataframe tbody tr th:only-of-type {\n",
       "        vertical-align: middle;\n",
       "    }\n",
       "\n",
       "    .dataframe tbody tr th {\n",
       "        vertical-align: top;\n",
       "    }\n",
       "\n",
       "    .dataframe thead th {\n",
       "        text-align: right;\n",
       "    }\n",
       "</style>\n",
       "<table border=\"1\" class=\"dataframe\">\n",
       "  <thead>\n",
       "    <tr style=\"text-align: right;\">\n",
       "      <th></th>\n",
       "      <th>long</th>\n",
       "      <th>lat</th>\n",
       "      <th>begin_date</th>\n",
       "      <th>end_date</th>\n",
       "      <th>geometry</th>\n",
       "      <th>comid</th>\n",
       "      <th>reachcode</th>\n",
       "      <th>comid-long</th>\n",
       "      <th>comid-lat</th>\n",
       "    </tr>\n",
       "    <tr>\n",
       "      <th>site_no</th>\n",
       "      <th></th>\n",
       "      <th></th>\n",
       "      <th></th>\n",
       "      <th></th>\n",
       "      <th></th>\n",
       "      <th></th>\n",
       "      <th></th>\n",
       "      <th></th>\n",
       "      <th></th>\n",
       "    </tr>\n",
       "  </thead>\n",
       "  <tbody>\n",
       "    <tr>\n",
       "      <th>014806318</th>\n",
       "      <td>-75.833278</td>\n",
       "      <td>39.90733</td>\n",
       "      <td>1997-08-15</td>\n",
       "      <td>1998-10-29</td>\n",
       "      <td>POINT (-75.83328 39.90733)</td>\n",
       "      <td>4651858</td>\n",
       "      <td>02040205000224</td>\n",
       "      <td>-75.833032</td>\n",
       "      <td>39.907284</td>\n",
       "    </tr>\n",
       "  </tbody>\n",
       "</table>\n",
       "</div>"
      ],
      "text/plain": [
       "                long       lat begin_date   end_date   \n",
       "site_no                                                \n",
       "014806318 -75.833278  39.90733 1997-08-15 1998-10-29  \\\n",
       "\n",
       "                             geometry    comid       reachcode comid-long   \n",
       "site_no                                                                     \n",
       "014806318  POINT (-75.83328 39.90733)  4651858  02040205000224 -75.833032  \\\n",
       "\n",
       "           comid-lat  \n",
       "site_no               \n",
       "014806318  39.907284  "
      ]
     },
     "execution_count": 9,
     "metadata": {},
     "output_type": "execute_result"
    }
   ],
   "source": [
    "# Initialize the NLDI database\n",
    "nldi = pynhd.NLDI()\n",
    "\n",
    "# Get COMID for each gauge\n",
    "gage_comid = pd.DataFrame(index = gage_data.index, columns=['comid', 'reachcode', 'comid-long', 'comid-lat'])\n",
    "for st in gage_data.index:\n",
    "    coords = (gage_data.loc[st, ['long']].values[0], gage_data.loc[st, ['lat']].values[0])\n",
    "    try:\n",
    "        found = nldi.comid_byloc(coords)\n",
    "        gage_comid.loc[st, ['comid']] = found.comid.values[0]\n",
    "        gage_comid.loc[st, ['reachcode']] = found.reachcode.values[0]\n",
    "        gage_comid.loc[st, ['comid-long']] = found.geometry.x[0]\n",
    "        gage_comid.loc[st, ['comid-lat']] = found.geometry.y[0]\n",
    "    except:\n",
    "        print(f'Error getting COMID for site {st}')\n",
    "        \n",
    "gage_data = pd.concat([gage_data, gage_comid], axis=1)\n",
    "gage_data = gage_data.dropna(axis=0)\n",
    "gage_data[\"comid\"] = gage_data[\"comid\"].astype('int')\n",
    "gage_data.head(1)"
   ]
  },
  {
   "cell_type": "code",
   "execution_count": 11,
   "metadata": {},
   "outputs": [],
   "source": [
    "# Specific characteristics of interest, for now we only want reservoir information\n",
    "all_characteristics = nldi.valid_characteristics\n",
    "reservoir_characteristics = ['CAT_NID_STORAGE2013', 'CAT_NDAMS2013', 'CAT_MAJOR2013', 'CAT_NORM_STORAGE2013']\n",
    "TOT_reservoir_characteristics = ['TOT_NID_STORAGE2013', 'TOT_NDAMS2013', 'TOT_MAJOR2013', 'TOT_NORM_STORAGE2013']\n",
    "\n",
    "## Use the station IDs to retrieve basin information\n",
    "cat_chars = nldi.getcharacteristic_byid(gage_data.comid, fsource = 'comid', \n",
    "                                        char_type= \"tot\", char_ids= TOT_reservoir_characteristics)\n",
    "\n",
    "print(f'Found characteristics for {cat_chars.shape} of {gage_data.shape} basins.')\n",
    "cat = cat_chars.reset_index()\n",
    "cat.columns = ['comid', 'TOT_MAJOR2013', 'TOT_NDAMS2013',\t'TOT_NID_STORAGE2013',\t'TOT_NORM_STORAGE2013']\n",
    "cat.head(1)"
   ]
  },
  {
   "cell_type": "code",
   "execution_count": 44,
   "metadata": {},
   "outputs": [
    {
     "name": "stdout",
     "output_type": "stream",
     "text": [
      "226 of the 360 gauge stations is managed in some way.\n"
     ]
    }
   ],
   "source": [
    "## Make a list of known inflow gauges we want to use\n",
    "obs_pub_stations = []\n",
    "for node, sites in obs_pub_site_matches.items():\n",
    "    if sites:\n",
    "        if len(sites) > 0:\n",
    "            for s in sites:\n",
    "                obs_pub_stations.append(s)\n",
    "\n",
    "## Remove sites that have reservoirs upstream\n",
    "gage_with_cat_chars = pd.merge(gage_data, cat, on = \"comid\")\n",
    "gage_with_cat_chars.index = gage_data.index\n",
    "managed_stations = []\n",
    "for i, st in enumerate(gage_data.index):\n",
    "    if gage_with_cat_chars.loc[st, TOT_reservoir_characteristics].sum() > 0:\n",
    "        if st not in obs_pub_stations:\n",
    "            managed_stations.append(st)\n",
    "\n",
    "# Take data from just unmanaged\n",
    "unmanaged_gauge_data = gage_data.drop(managed_stations)\n",
    "print(f'{len(managed_stations)} of the {gage_data.shape[0]} gauge stations is managed in some way.')\n",
    "\n",
    "# Export gage_data\n",
    "gage_data.to_csv('./data/drb_all_usgs_metadata.csv', sep=',')\n",
    "unmanaged_gauge_data.to_csv('./data/drb_unmanaged_usgs_metadata.csv', sep=',')"
   ]
  },
  {
   "attachments": {},
   "cell_type": "markdown",
   "metadata": {},
   "source": [
    "### Retrieve streamflow for unmanaged gauges\n",
    "\n",
    "Now that we have identified all the stations that are (1) within the DRB watershed and (2) not heavily managed, we can retrieve the streamflow timeseries for each of those stations and save the data. "
   ]
  },
  {
   "cell_type": "code",
   "execution_count": 45,
   "metadata": {},
   "outputs": [],
   "source": [
    "# Date range of data to be retrieved\n",
    "dates = ('1900-01-01', '2023-06-01')\n",
    "\n",
    "# Retrieve data using NWIS\n",
    "stations = unmanaged_gauge_data.index\n",
    "nwis = NWIS()\n",
    "Q = nwis.get_streamflow(stations, dates)\n",
    "\n",
    "# Export all data to CSV\n",
    "Q.to_csv(f'./data/historic_unmanaged_streamflow_{dates[0][:4]}_{dates[1][:4]}_cms.csv', sep=',')"
   ]
  },
  {
   "attachments": {},
   "cell_type": "markdown",
   "metadata": {},
   "source": [
    "## Done!\n",
    "\n",
    "The data is now available for the historic reconstruction. Go to the `QPPQ_Demo.ipynb` for the next step."
   ]
  },
  {
   "cell_type": "code",
   "execution_count": 56,
   "metadata": {},
   "outputs": [],
   "source": [
    "import matplotlib.pyplot as plt\n",
    "\n",
    "prediction_locations = pd.read_csv(f'./data/prediction_locations.csv', sep = ',', index_col=0)\n",
    "prediction_locations = gpd.GeoDataFrame(prediction_locations, geometry=gpd.points_from_xy(prediction_locations.long, prediction_locations.lat))"
   ]
  },
  {
   "cell_type": "code",
   "execution_count": 57,
   "metadata": {},
   "outputs": [
    {
     "data": {
      "text/plain": [
       "<matplotlib.legend.Legend at 0x1bdb80d24d0>"
      ]
     },
     "execution_count": 57,
     "metadata": {},
     "output_type": "execute_result"
    },
    {
     "data": {
      "image/png": "[encoded data removed]",
      "text/plain": [
       "<Figure size 1000x1000 with 1 Axes>"
      ]
     },
     "metadata": {},
     "output_type": "display_data"
    }
   ],
   "source": [
    "ax = unmanaged_gauge_data.plot(figsize = (10,10), label = 'Unmanaged gauges')\n",
    "prediction_locations.plot(ax=ax, label = 'Node prediction locations')\n",
    "plt.legend()"
   ]
  },
  {
   "cell_type": "code",
   "execution_count": null,
   "metadata": {},
   "outputs": [],
   "source": []
  }
 ],
 "metadata": {
  "kernelspec": {
   "display_name": "venv",
   "language": "python",
   "name": "python3"
  },
  "language_info": {
   "codemirror_mode": {
    "name": "ipython",
    "version": 3
   },
   "file_extension": ".py",
   "mimetype": "text/x-python",
   "name": "python",
   "nbconvert_exporter": "python",
   "pygments_lexer": "ipython3",
   "version": "3.10.10"
  },
  "orig_nbformat": 4
 },
 "nbformat": 4,
 "nbformat_minor": 2
}
